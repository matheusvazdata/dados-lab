{
  "nbformat": 4,
  "nbformat_minor": 0,
  "metadata": {
    "colab": {
      "provenance": [],
      "authorship_tag": "ABX9TyO+0v4MApkHfIwydC6NW26d",
      "include_colab_link": true
    },
    "kernelspec": {
      "name": "python3",
      "display_name": "Python 3"
    },
    "language_info": {
      "name": "python"
    }
  },
  "cells": [
    {
      "cell_type": "markdown",
      "metadata": {
        "id": "view-in-github",
        "colab_type": "text"
      },
      "source": [
        "<a href=\"https://colab.research.google.com/github/matheusvazdata/dados-lab/blob/main/OOP_in_python.ipynb\" target=\"_parent\"><img src=\"https://colab.research.google.com/assets/colab-badge.svg\" alt=\"Open In Colab\"/></a>"
      ]
    },
    {
      "cell_type": "markdown",
      "source": [
        "# 🚀 O que é Programação Orientada a Objetos?\n",
        "É um paradigma de programação onde organizamos o código em objetos, que são instâncias de classes. Cada objeto representa uma entidade com dados (atributos) e ações (métodos)."
      ],
      "metadata": {
        "id": "sPoAByXbX_kJ"
      }
    },
    {
      "cell_type": "markdown",
      "source": [
        "## 📌 Aplicações reais de POO em Engenharia de Dados\n",
        "Vamos ver alguns exemplos reais, mas ainda didáticos, que te ajudam a entender como usar POO em scripts ETL, pipelines, automações com Airflow, etc."
      ],
      "metadata": {
        "id": "ZEiZN0oIYNWq"
      }
    },
    {
      "cell_type": "code",
      "source": [
        "import pandas as pd\n",
        "\n",
        "# Classe para representar uma tabela e fazer transformações\n",
        "class TabelaDados:\n",
        "    def __init__(self, caminho_arquivo):\n",
        "        self.caminho_arquivo = caminho_arquivo\n",
        "        self.df = pd.read_csv(caminho_arquivo)\n",
        "\n",
        "    def remover_nulos(self):\n",
        "        self.df = self.df.dropna()\n",
        "        return self\n",
        "\n",
        "    def padronizar_colunas(self):\n",
        "        self.df.columns = [col.lower().strip().replace(' ', '_') for col in self.df.columns]\n",
        "        return self\n",
        "\n",
        "    def mostrar_amostra(self, linhas=5):\n",
        "        return self.df.head(linhas)"
      ],
      "metadata": {
        "id": "EktWIElSYRro"
      },
      "execution_count": 1,
      "outputs": []
    },
    {
      "cell_type": "markdown",
      "source": [
        "### ✅ Testar no Colab:\n",
        "Gere um CSV simples com dados fictícios:"
      ],
      "metadata": {
        "id": "L6XTLuD_abYn"
      }
    },
    {
      "cell_type": "code",
      "source": [
        "dados = {\n",
        "    'Nome ': ['João', 'Maria', None],\n",
        "    ' Idade': [30, 25, 40],\n",
        "    'Cidade': ['SP', None, 'RJ']\n",
        "}\n",
        "\n",
        "df_teste = pd.DataFrame(dados)\n",
        "df_teste.to_csv('clientes.csv', index=False)"
      ],
      "metadata": {
        "id": "7RIf4kRPY_De"
      },
      "execution_count": 2,
      "outputs": []
    },
    {
      "cell_type": "code",
      "source": [
        "tabela = TabelaDados('clientes.csv')\n",
        "tabela.padronizar_colunas().remover_nulos()\n",
        "\n",
        "print('📊 Dados tratados:')\n",
        "print(tabela.mostrar_amostra())"
      ],
      "metadata": {
        "colab": {
          "base_uri": "https://localhost:8080/"
        },
        "id": "ebNOK2MfaDpf",
        "outputId": "c6cef723-4e71-4a18-c35c-f8bbc49d4e24"
      },
      "execution_count": 3,
      "outputs": [
        {
          "output_type": "stream",
          "name": "stdout",
          "text": [
            "📊 Dados tratados:\n",
            "   nome  idade cidade\n",
            "0  João     30     SP\n"
          ]
        }
      ]
    },
    {
      "cell_type": "markdown",
      "source": [
        "### 🌐 Exemplo 2 – Classe para simular extração de API pública\n",
        "Vamos usar a JSONPlaceholder, que é uma API fake aberta pra testes."
      ],
      "metadata": {
        "id": "WXQzKRv0asWF"
      }
    },
    {
      "cell_type": "code",
      "source": [
        "import requests\n",
        "\n",
        "class APIExtrator:\n",
        "    def __init__(self, base_url):\n",
        "        self.base_url = base_url\n",
        "\n",
        "    def buscar(self, endpoint):\n",
        "        url = f'{self.base_url}/{endpoint}'\n",
        "        resposta = requests.get(url)\n",
        "        if resposta.status_code == 200:\n",
        "            return resposta.json()\n",
        "        else:\n",
        "            print(f'Erro {resposta.status_code} ao acessar a API.')\n",
        "            return None"
      ],
      "metadata": {
        "id": "3F761_B6aFb2"
      },
      "execution_count": 4,
      "outputs": []
    },
    {
      "cell_type": "markdown",
      "source": [
        "### ✅ Testar no Colab:"
      ],
      "metadata": {
        "id": "BKbb7Hpvay0E"
      }
    },
    {
      "cell_type": "code",
      "source": [
        "api = APIExtrator('https://jsonplaceholder.typicode.com')\n",
        "dados_usuarios = api.buscar('users')\n",
        "\n",
        "for usuario in dados_usuarios[:3]:  # mostra só os 3 primeiros\n",
        "    print(f\"{usuario['name']} - {usuario['email']}\")"
      ],
      "metadata": {
        "colab": {
          "base_uri": "https://localhost:8080/"
        },
        "id": "OIqz9q0daw2_",
        "outputId": "d9f1766a-9333-4579-c792-3cbbcd397a66"
      },
      "execution_count": 5,
      "outputs": [
        {
          "output_type": "stream",
          "name": "stdout",
          "text": [
            "Leanne Graham - Sincere@april.biz\n",
            "Ervin Howell - Shanna@melissa.tv\n",
            "Clementine Bauch - Nathan@yesenia.net\n"
          ]
        }
      ]
    },
    {
      "cell_type": "markdown",
      "source": [
        "### 🏗️ Exemplo 3 – Simulando pipeline ETL simples com POO\n"
      ],
      "metadata": {
        "id": "1yk2UpPrbT0k"
      }
    },
    {
      "cell_type": "code",
      "source": [
        "class ETL:\n",
        "    def __init__(self, dados):\n",
        "        self.dados = dados\n",
        "\n",
        "    def extrair(self):\n",
        "        print('🔍 Extraindo dados...')\n",
        "        return self.dados\n",
        "\n",
        "    def transformar(self):\n",
        "        print('🔧 Transformando dados...')\n",
        "        return [d.upper() for d in self.dados if isinstance(d, str)]\n",
        "\n",
        "    def carregar(self, dados_transformados):\n",
        "        print('💾 Carregando dados:')\n",
        "        for d in dados_transformados:\n",
        "            print(f'  - {d}')"
      ],
      "metadata": {
        "id": "sxugYMgWbBum"
      },
      "execution_count": 6,
      "outputs": []
    },
    {
      "cell_type": "markdown",
      "source": [
        "#### ✅ Testar no Colab:"
      ],
      "metadata": {
        "id": "qMo0HWFPbi5j"
      }
    },
    {
      "cell_type": "code",
      "source": [
        "dados_brutos = ['banana', 'maçã', None, 'abacaxi']\n",
        "\n",
        "pipeline = ETL(dados_brutos)\n",
        "extraidos = pipeline.extrair()\n",
        "transformados = pipeline.transformar()\n",
        "pipeline.carregar(transformados)"
      ],
      "metadata": {
        "colab": {
          "base_uri": "https://localhost:8080/"
        },
        "id": "vxkrJ9X6bgpo",
        "outputId": "2fe298e5-f49b-4267-bc9d-8613fdc2db06"
      },
      "execution_count": 7,
      "outputs": [
        {
          "output_type": "stream",
          "name": "stdout",
          "text": [
            "🔍 Extraindo dados...\n",
            "🔧 Transformando dados...\n",
            "💾 Carregando dados:\n",
            "  - BANANA\n",
            "  - MAÇÃ\n",
            "  - ABACAXI\n"
          ]
        }
      ]
    },
    {
      "cell_type": "code",
      "source": [],
      "metadata": {
        "id": "R1ZugZBZbrGz"
      },
      "execution_count": null,
      "outputs": []
    }
  ]
}