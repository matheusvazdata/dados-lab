{
  "nbformat": 4,
  "nbformat_minor": 0,
  "metadata": {
    "colab": {
      "provenance": [],
      "authorship_tag": "ABX9TyOsx2K1b2HkuSIi9z0PsBCI",
      "include_colab_link": true
    },
    "kernelspec": {
      "name": "python3",
      "display_name": "Python 3"
    },
    "language_info": {
      "name": "python"
    }
  },
  "cells": [
    {
      "cell_type": "markdown",
      "metadata": {
        "id": "view-in-github",
        "colab_type": "text"
      },
      "source": [
        "<a href=\"https://colab.research.google.com/github/matheusvazdata/dados-lab/blob/main/Import_files.ipynb\" target=\"_parent\"><img src=\"https://colab.research.google.com/assets/colab-badge.svg\" alt=\"Open In Colab\"/></a>"
      ]
    },
    {
      "cell_type": "code",
      "execution_count": 1,
      "metadata": {
        "id": "nNFAY9eOqqeE"
      },
      "outputs": [],
      "source": [
        "# Importação das bibliotecas\n",
        "import pandas as pd\n",
        "import pickle"
      ]
    },
    {
      "cell_type": "markdown",
      "source": [
        "## Criação e salvamento de um arquivo Excel com múltiplas planilhas"
      ],
      "metadata": {
        "id": "zXBwJOrAwkyZ"
      }
    },
    {
      "cell_type": "code",
      "source": [
        "# Criação de um DataFrame de exemplo para arquivo em xlsx\n",
        "dados_excel = {\n",
        "    'Ano': [2020, 2021, 2022, 2023, 2024],\n",
        "    'Vendas': [1_000_000, 1_500_000, 1_800_000, 2_100_000, 1_900_000],\n",
        "    'Lucro': [200_000, 300_000, 350_000, 400_000, 500_000]\n",
        "}\n",
        "\n",
        "df_excel = pd.DataFrame(dados_excel)"
      ],
      "metadata": {
        "id": "GE42CGrJq8pj"
      },
      "execution_count": 2,
      "outputs": []
    },
    {
      "cell_type": "code",
      "source": [
        "# Instalação da biblioteca\n",
        "!pip install xlsxwriter"
      ],
      "metadata": {
        "colab": {
          "base_uri": "https://localhost:8080/"
        },
        "id": "HgwFn_5uuhtB",
        "outputId": "e6ccb178-a8e4-4f69-d963-2aabf6de7134"
      },
      "execution_count": 4,
      "outputs": [
        {
          "output_type": "stream",
          "name": "stdout",
          "text": [
            "Collecting xlsxwriter\n",
            "  Downloading XlsxWriter-3.2.2-py3-none-any.whl.metadata (2.8 kB)\n",
            "Downloading XlsxWriter-3.2.2-py3-none-any.whl (165 kB)\n",
            "\u001b[2K   \u001b[90m━━━━━━━━━━━━━━━━━━━━━━━━━━━━━━━━━━━━━━━━\u001b[0m \u001b[32m165.1/165.1 kB\u001b[0m \u001b[31m3.0 MB/s\u001b[0m eta \u001b[36m0:00:00\u001b[0m\n",
            "\u001b[?25hInstalling collected packages: xlsxwriter\n",
            "Successfully installed xlsxwriter-3.2.2\n"
          ]
        }
      ]
    },
    {
      "cell_type": "code",
      "source": [
        "# Salvamento do DataFrame como um arquivo Excel com múltiplas planilhas\n",
        "excel_path = 'dados_vendas.xlsx'\n",
        "\n",
        "with pd.ExcelWriter(excel_path, engine='xlsxwriter') as writer:\n",
        "  df_excel.to_excel(writer, sheet_name='Vendas', index=False)\n",
        "  df_excel.to_excel(writer, sheet_name='Lucros', index=False)"
      ],
      "metadata": {
        "id": "pL3H2yB0tAOM"
      },
      "execution_count": 5,
      "outputs": []
    },
    {
      "cell_type": "markdown",
      "source": [
        "## Criação e salvamento de um arquivo Pickle"
      ],
      "metadata": {
        "id": "BxoLqRVZwvtI"
      }
    },
    {
      "cell_type": "code",
      "source": [
        "# Criação de um dicionário para serializar com Pickle\n",
        "dados_pickle = {\n",
        "    'produto': 'Notebook',\n",
        "    'preco': 3_499.99,\n",
        "    'estoque': 25\n",
        "}\n",
        "\n",
        "# Salvamento do dicionário como um arquivo Pickle\n",
        "pickle_path = 'dados.pkl'\n",
        "\n",
        "with open(pickle_path, 'wb') as file:\n",
        "  pickle.dump(dados_pickle, file)"
      ],
      "metadata": {
        "id": "UIy5XHiiuM_b"
      },
      "execution_count": 6,
      "outputs": []
    },
    {
      "cell_type": "markdown",
      "source": [
        "## Leitura dos arquivos gerados"
      ],
      "metadata": {
        "id": "tvWHqYkVw1Vw"
      }
    },
    {
      "cell_type": "markdown",
      "source": [
        "### Excel"
      ],
      "metadata": {
        "id": "f6CfkGUjxGgY"
      }
    },
    {
      "cell_type": "code",
      "source": [
        "# Exibição dos arquivos gerados\n",
        "excel_path, pickle_path"
      ],
      "metadata": {
        "colab": {
          "base_uri": "https://localhost:8080/"
        },
        "id": "kF8fhVL2vckX",
        "outputId": "b82f16ae-c0d6-424c-fe8e-f5dd4f409853"
      },
      "execution_count": 7,
      "outputs": [
        {
          "output_type": "execute_result",
          "data": {
            "text/plain": [
              "('dados_vendas.xlsx', 'dados.pkl')"
            ]
          },
          "metadata": {},
          "execution_count": 7
        }
      ]
    },
    {
      "cell_type": "code",
      "source": [
        "# Carregamento do arquivo Excel\n",
        "data = pd.ExcelFile('dados_vendas.xlsx')\n",
        "\n",
        "# Lista dos nomes das planilhas\n",
        "print(data.sheet_names)"
      ],
      "metadata": {
        "colab": {
          "base_uri": "https://localhost:8080/"
        },
        "id": "0F_nChy3vijP",
        "outputId": "99ca37f4-feb9-4fd5-f3c2-9b8bc812aedc"
      },
      "execution_count": 8,
      "outputs": [
        {
          "output_type": "stream",
          "name": "stdout",
          "text": [
            "['Vendas', 'Lucros']\n"
          ]
        }
      ]
    },
    {
      "cell_type": "code",
      "source": [
        "# Carregamento de uma planilha específica\n",
        "df_vendas = data.parse('Vendas')\n",
        "print(df_vendas)"
      ],
      "metadata": {
        "colab": {
          "base_uri": "https://localhost:8080/"
        },
        "id": "deOGmfitxATP",
        "outputId": "6f29e4db-7d1f-4e77-f14b-e5dbd796cc0d"
      },
      "execution_count": 9,
      "outputs": [
        {
          "output_type": "stream",
          "name": "stdout",
          "text": [
            "    Ano   Vendas   Lucro\n",
            "0  2020  1000000  200000\n",
            "1  2021  1500000  300000\n",
            "2  2022  1800000  350000\n",
            "3  2023  2100000  400000\n",
            "4  2024  1900000  500000\n"
          ]
        }
      ]
    },
    {
      "cell_type": "markdown",
      "source": [
        "### Pickle"
      ],
      "metadata": {
        "id": "5W95jlPyxJfx"
      }
    },
    {
      "cell_type": "code",
      "source": [
        "# Carregamento do arquivo Pickle\n",
        "with open('dados.pkl', 'rb') as file:\n",
        "    dados_carregados = pickle.load(file)\n",
        "\n",
        "print(dados_carregados)"
      ],
      "metadata": {
        "colab": {
          "base_uri": "https://localhost:8080/"
        },
        "id": "mVEwidtHxEBe",
        "outputId": "bd7d5afe-b115-479c-844b-2fa77f4c96df"
      },
      "execution_count": 10,
      "outputs": [
        {
          "output_type": "stream",
          "name": "stdout",
          "text": [
            "{'produto': 'Notebook', 'preco': 3499.99, 'estoque': 25}\n"
          ]
        }
      ]
    },
    {
      "cell_type": "code",
      "source": [],
      "metadata": {
        "id": "K4uC614axTvw"
      },
      "execution_count": null,
      "outputs": []
    }
  ]
}